{
 "cells": [
  {
   "cell_type": "markdown",
   "metadata": {},
   "source": [
    "What is Theano:\n",
    "\n",
    "* It is named after a Greek mathematician. \n",
    "* At it’s heart Theano is a compiler for mathematical\n",
    "expressions in Python. \n",
    "* It knows how to take your structures and turn them into very efficient\n",
    "code that uses NumPy, efficient native libraries like BLAS and native code to run as fast as\n",
    "possible on CPUs or GPUs."
   ]
  },
  {
   "cell_type": "code",
   "execution_count": null,
   "metadata": {
    "collapsed": true
   },
   "outputs": [],
   "source": []
  }
 ],
 "metadata": {
  "kernelspec": {
   "display_name": "Python 3",
   "language": "python",
   "name": "python3"
  },
  "language_info": {
   "codemirror_mode": {
    "name": "ipython",
    "version": 3
   },
   "file_extension": ".py",
   "mimetype": "text/x-python",
   "name": "python",
   "nbconvert_exporter": "python",
   "pygments_lexer": "ipython3",
   "version": "3.6.0"
  }
 },
 "nbformat": 4,
 "nbformat_minor": 2
}
