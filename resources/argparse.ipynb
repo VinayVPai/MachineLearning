{
 "cells": [
  {
   "cell_type": "markdown",
   "metadata": {},
   "source": []
  },
  {
   "cell_type": "code",
   "execution_count": 2,
   "metadata": {},
   "outputs": [
    {
     "name": "stdout",
     "output_type": "stream",
     "text": [
      "Collecting argparse\n",
      "  Downloading argparse-1.4.0-py2.py3-none-any.whl\n",
      "Installing collected packages: argparse\n",
      "Successfully installed argparse-1.4.0\n"
     ]
    },
    {
     "name": "stderr",
     "output_type": "stream",
     "text": [
      "sudo: no tty present and no askpass program specified\n"
     ]
    }
   ],
   "source": [
    "%%bash\n",
    "sudo activate cv\n",
    "pip install argparse"
   ]
  },
  {
   "cell_type": "markdown",
   "metadata": {},
   "source": [
    "# Objectives:\n",
    "\n",
    "1. Understand how to perform the following operations\n",
    "    - Load an image from disk (cv2.imread) into a numpy array\n",
    "    - Display the image in a window (cv2.imshow)\n",
    "    - Display the image in a Jupyter notebook (matplotlib)\n",
    "    - Write the image to a file in disk (cv2.imwrite)\n",
    "2. Understand color channels, colorspaces and color space conversion\n",
    "3. Learn to use Python scripts with argument parsing"
   ]
  },
  {
   "cell_type": "markdown",
   "metadata": {},
   "source": [
    "# Task\n",
    "\n",
    "* Download [this image](https://upload.wikimedia.org/wikipedia/commons/thumb/3/3a/Ranbir_promotes_YJHD.jpg/330px-Ranbir_promotes_YJHD.jpg)\n",
    "    - What is the shape of the NumPy array?\n",
    "* Implement the following switch to replace ```--save```:\n",
    "> output: use user-provided filename to write to disk\n",
    "\n",
    "\n",
    "ap.add_argument(\"-o\", \"--output\", required=True)"
   ]
  }
 ],
 "metadata": {
  "anaconda-cloud": {},
  "kernelspec": {
   "display_name": "Python 3",
   "language": "python",
   "name": "python3"
  },
  "language_info": {
   "codemirror_mode": {
    "name": "ipython",
    "version": 3
   },
   "file_extension": ".py",
   "mimetype": "text/x-python",
   "name": "python",
   "nbconvert_exporter": "python",
   "pygments_lexer": "ipython3",
   "version": "3.5.2"
  },
  "widgets": {
   "state": {},
   "version": "1.1.2"
  }
 },
 "nbformat": 4,
 "nbformat_minor": 1
}
