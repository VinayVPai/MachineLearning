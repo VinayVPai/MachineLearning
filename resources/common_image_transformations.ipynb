{
 "cells": [
  {
   "cell_type": "markdown",
   "metadata": {},
   "source": [
    "# Translation\n",
    "\n",
    "\n",
    "* Translation is the shifting of an image along the x and y axis.\n",
    "* Using translation, we can shift an image up, down, left, or right, along with any combination of the above.\n",
    "\n",
    "Mathematically, we define a translation matrix M that we can use to translate an image:\n",
    "\n",
    "M = $\\begin{bmatrix}1 & 0 & t_{x} \\\\   0 & 1 & t_{y}\\end{bmatrix}$"
   ]
  },
  {
   "cell_type": "code",
   "execution_count": 1,
   "metadata": {},
   "outputs": [
    {
     "name": "stderr",
     "output_type": "stream",
     "text": [
      "usage: __main__.py [-h] -i IMAGE\n",
      "__main__.py: error: the following arguments are required: -i/--image\n"
     ]
    },
    {
     "ename": "SystemExit",
     "evalue": "2",
     "output_type": "error",
     "traceback": [
      "An exception has occurred, use %tb to see the full traceback.\n",
      "\u001b[0;31mSystemExit\u001b[0m\u001b[0;31m:\u001b[0m 2\n"
     ]
    },
    {
     "name": "stderr",
     "output_type": "stream",
     "text": [
      "/Users/soumendra/anaconda3/envs/carnd-term1/lib/python3.5/site-packages/IPython/core/interactiveshell.py:2889: UserWarning: To exit: use 'exit', 'quit', or Ctrl-D.\n",
      "  warn(\"To exit: use 'exit', 'quit', or Ctrl-D.\", stacklevel=1)\n"
     ]
    }
   ],
   "source": [
    "# import the necessary packages\n",
    "import numpy as np\n",
    "import argparse\n",
    "import cv2\n",
    "\n",
    "# construct the argument parser and parse the arguments\n",
    "ap = argparse.ArgumentParser()\n",
    "ap.add_argument(\"-i\", \"--image\", required=True, help=\"Path to the image\")\n",
    "args = vars(ap.parse_args())\n",
    "\n",
    "# load the image and show it\n",
    "image = cv2.imread(args[\"image\"])\n",
    "cv2.imshow(\"Original\", image)\n",
    "\n",
    "# NOTE: Translating (shifting) an image is given by a NumPy matrix in\n",
    "# the form:\n",
    "#\t[[1, 0, shiftX], [0, 1, shiftY]]\n",
    "# You simply need to specify how many pixels you want to shift the image\n",
    "# in the X and Y direction -- let's translate the image 25 pixels to the\n",
    "# right and 50 pixels down\n",
    "M = np.float32([[1, 0, 25], [0, 1, 50]])\n",
    "shifted = cv2.warpAffine(image, M, (image.shape[1], image.shape[0]))\n",
    "cv2.imshow(\"Shifted Down and Right\", shifted)\n",
    "\n",
    "# now, let's shift the image 50 pixels to the left and 90 pixels up, we\n",
    "# accomplish this using negative values\n",
    "M = np.float32([[1, 0, -50], [0, 1, -90]])\n",
    "shifted = cv2.warpAffine(image, M, (image.shape[1], image.shape[0]))\n",
    "cv2.imshow(\"Shifted Up and Left\", shifted)\n"
   ]
  },
  {
   "cell_type": "code",
   "execution_count": null,
   "metadata": {
    "collapsed": true
   },
   "outputs": [],
   "source": [
    "def translate(image, x, y):\n",
    "    # define the translation matrix and perform the translation\n",
    "    M = np.float32([[1, 0, x], [0, 1, y]])\n",
    "    shifted = cv2.warpAffine(image, M, (image.shape[1], image.shape[0]))\n",
    "\n",
    "    # return the translated image\n",
    "    return shifted"
   ]
  },
  {
   "cell_type": "markdown",
   "metadata": {},
   "source": [
    "# What is an Affine Transformation?\n",
    "\n",
    "It is any transformation that can be expressed in the form of a matrix multiplication (linear transformation) followed by a vector addition (translation).\n",
    "\n",
    "We can use an Affine Transformation to express:\n",
    "\n",
    "1. Rotations (linear transformation)\n",
    "2. Translations (vector addition)\n",
    "3. Scale operations (linear transformation)\n",
    "\n",
    "In essence, an Affine Transformation represents a relation between two images.\n",
    "\n",
    "The usual way to represent an Affine Transform is by using a $2 \\times 3$ matrix.\n",
    "\n",
    "![](./images/lec01.png)\n",
    "\n",
    "![](./images/lec02.png)\n",
    "\n",
    "\n",
    "# Rotation\n",
    "\n",
    "![](./images/lec03.png)\n",
    "\n",
    "Given an (x, y)-Cartesian plane, this matrix can be used to rotate a vector $\\theta$ degrees (counter-clockwise) about the origin. In this case, the origin is normally the center of the image; however, in practice we can define any arbitrary (x, y) coordinate as our rotation center.\n",
    "\n",
    "From the original image I, the rotated image R is then obtained by simple matrix multiplication: R = IM\n",
    "\n",
    "However, OpenCV also provides the ability to \n",
    "* scale (resize) an image and \n",
    "* provide an arbitrary rotation center to perform the rotation about.\n",
    "\n",
    "Our modified rotation matrix M is thus:\n",
    "\n",
    "![](./images/lec04.png)\n",
    "\n",
    "Where:\n",
    "\n",
    "$\\alpha = scale * cos \\theta$ and $\\beta = scale * sin \\theta$ and $c_{x}$ and $c_{y}$ are the respective (x, y)-coordinates that the rotation is performed about."
   ]
  },
  {
   "cell_type": "code",
   "execution_count": null,
   "metadata": {
    "collapsed": true
   },
   "outputs": [],
   "source": [
    "# import the necessary packages\n",
    "import numpy as np\n",
    "import argparse\n",
    "import cv2\n",
    "\n",
    "# construct the argument parser and parse the arguments\n",
    "ap = argparse.ArgumentParser()\n",
    "ap.add_argument(\"-i\", \"--image\", required=True, help=\"Path to the image\")\n",
    "args = vars(ap.parse_args())\n",
    "\n",
    "# load the image and show it\n",
    "image = cv2.imread(args[\"image\"])\n",
    "cv2.imshow(\"Original\", image)\n",
    "\n",
    "# grab the dimensions of the image and calculate the center of the image\n",
    "(h, w) = image.shape[:2]\n",
    "(cX, cY) = (w / 2, h / 2)\n",
    "\n",
    "# rotate our image by 45 degrees\n",
    "M = cv2.getRotationMatrix2D((cX, cY), 45, 1.0)\n",
    "rotated = cv2.warpAffine(image, M, (w, h))\n",
    "cv2.imshow(\"Rotated by 45 Degrees\", rotated)\n",
    "\n",
    "# rotate our image by -90 degrees\n",
    "M = cv2.getRotationMatrix2D((cX, cY), -90, 1.0)\n",
    "rotated = cv2.warpAffine(image, M, (w, h))\n",
    "cv2.imshow(\"Rotated by -90 Degrees\", rotated)\n"
   ]
  },
  {
   "cell_type": "markdown",
   "metadata": {},
   "source": [
    "Just as we defined a matrix to translate an image, we also define a matrix to rotate the image. Instead of manually constructing the matrix using NumPy (which can be a bit tedious), we’ll just make a call to the cv2.getRotationMatrix2D method .\n",
    "\n",
    "The cv2.getRotationMatrix2D  function takes three arguments.\n",
    "\n",
    "* The first argument is the point in which we want to rotate the image about.\n",
    "* We then specify $\\theta$, the number of (counter-clockwise) degrees we are going to rotate the image by.\n",
    "* The last argument is the scale of the image. Here you can specify a floating point value, where 1.0 means the same, original dimensions of the image are used.\n",
    "    - If you specified a value of 2.0, the image would be doubled in size.\n",
    "    - A value of 0.5 halve the size of the image.\n",
    "    \n",
    "Once we have our rotation matrix M from the cv2.getRotationMatrix2D  function, we can apply the rotation to our image using the cv2.warpAffine method."
   ]
  },
  {
   "cell_type": "code",
   "execution_count": null,
   "metadata": {
    "collapsed": true
   },
   "outputs": [],
   "source": [
    "def rotate(image, angle, center=None, scale=1.0):\n",
    "    # grab the dimensions of the image\n",
    "    (h, w) = image.shape[:2]\n",
    "\n",
    "    # if the center is None, initialize it as the center of\n",
    "    # the image\n",
    "    if center is None:\n",
    "        center = (w // 2, h // 2)\n",
    "\n",
    "    # perform the rotation\n",
    "    M = cv2.getRotationMatrix2D(center, angle, scale)\n",
    "    rotated = cv2.warpAffine(image, M, (w, h))\n",
    "\n",
    "    # return the rotated image\n",
    "    return rotated"
   ]
  },
  {
   "cell_type": "markdown",
   "metadata": {},
   "source": [
    "# Resizing\n",
    "\n",
    "Decreasing vs increasing size - interpolation"
   ]
  },
  {
   "cell_type": "code",
   "execution_count": null,
   "metadata": {
    "collapsed": true
   },
   "outputs": [],
   "source": [
    "def resize(image, width=None, height=None, inter=cv2.INTER_AREA):\n",
    "    # initialize the dimensions of the image to be resized and\n",
    "    # grab the image size\n",
    "    dim = None\n",
    "    (h, w) = image.shape[:2]\n",
    "\n",
    "    # if both the width and height are None, then return the\n",
    "    # original image\n",
    "    if width is None and height is None:\n",
    "        return image\n",
    "\n",
    "    # check to see if the width is None\n",
    "    if width is None:\n",
    "        # calculate the ratio of the height and construct the\n",
    "        # dimensions\n",
    "        r = height / float(h)\n",
    "        dim = (int(w * r), height)\n",
    "\n",
    "    # otherwise, the height is None\n",
    "    else:\n",
    "        # calculate the ratio of the width and construct the\n",
    "        # dimensions\n",
    "        r = width / float(w)\n",
    "        dim = (width, int(h * r))\n",
    "\n",
    "    # resize the image\n",
    "    resized = cv2.resize(image, dim, interpolation=inter)\n",
    "\n",
    "    # return the resized image\n",
    "    return resized"
   ]
  }
 ],
 "metadata": {
  "anaconda-cloud": {},
  "kernelspec": {
   "display_name": "Python 3",
   "language": "python",
   "name": "python3"
  },
  "language_info": {
   "codemirror_mode": {
    "name": "ipython",
    "version": 3
   },
   "file_extension": ".py",
   "mimetype": "text/x-python",
   "name": "python",
   "nbconvert_exporter": "python",
   "pygments_lexer": "ipython3",
   "version": "3.5.2"
  },
  "widgets": {
   "state": {},
   "version": "1.1.2"
  }
 },
 "nbformat": 4,
 "nbformat_minor": 1
}
