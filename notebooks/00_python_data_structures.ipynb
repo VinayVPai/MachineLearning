{
 "cells": [
  {
   "cell_type": "markdown",
   "metadata": {},
   "source": [
    "# Mutability and Immutability\n",
    "\n",
    "Let's begin by examining the following short Python programs and trying to predict their outcomes."
   ]
  },
  {
   "cell_type": "markdown",
   "metadata": {},
   "source": [
    "## Puzzle 1: Mutability vs Immutability\n",
    "\n",
    "**What will be the output of the following cell?**"
   ]
  },
  {
   "cell_type": "code",
   "execution_count": null,
   "metadata": {},
   "outputs": [],
   "source": [
    "a = 7\n",
    "c = a\n",
    "print (a, c)"
   ]
  },
  {
   "cell_type": "markdown",
   "metadata": {},
   "source": [
    "**What will be the output of the following cell?**"
   ]
  },
  {
   "cell_type": "code",
   "execution_count": null,
   "metadata": {},
   "outputs": [],
   "source": [
    "a = 7\n",
    "c = a\n",
    "c = 8\n",
    "print (a, c)"
   ]
  },
  {
   "cell_type": "markdown",
   "metadata": {},
   "source": [
    "**What will be the output of the following cell?**"
   ]
  },
  {
   "cell_type": "code",
   "execution_count": null,
   "metadata": {},
   "outputs": [],
   "source": [
    "b = [1, 2, 3, 4, 5]\n",
    "c = b\n",
    "print(b, c)"
   ]
  },
  {
   "cell_type": "markdown",
   "metadata": {},
   "source": [
    "**What will be the output of the following cell?**"
   ]
  },
  {
   "cell_type": "code",
   "execution_count": null,
   "metadata": {},
   "outputs": [],
   "source": [
    "b = [1, 2, 3, 4, 5]\n",
    "c = b\n",
    "c[0] = 10\n",
    "print(b, c)"
   ]
  },
  {
   "cell_type": "markdown",
   "metadata": {},
   "source": [
    "**What will be the output of the following cell?**"
   ]
  },
  {
   "cell_type": "code",
   "execution_count": null,
   "metadata": {},
   "outputs": [],
   "source": [
    "b = [1, 2, 3, 4, 5]\n",
    "c = b\n",
    "c = 10\n",
    "print(b, c)"
   ]
  },
  {
   "cell_type": "markdown",
   "metadata": {},
   "source": [
    "## Explanation\n",
    "\n",
    "* Some Python objects are mutable, which means they can be altered.\n",
    "* Other objects are immutable, which means they cannot be changed, and new objects are returned when we update their values.\n",
    "* The following are examples of immutable objects:\n",
    "    - int\n",
    "    - float\n",
    "    - complex\n",
    "    - bool\n",
    "    - string\n",
    "    - tuple\n",
    "    - range\n",
    "* The following are examples of mutable objects:\n",
    "    - list\n",
    "    - dict\n",
    "    - user-defined classes (unless specifically made immutable)\n",
    "\n",
    "Here are a few things to note:\n",
    "* **lists** are mutable, but **tuples** is immutable\n",
    "* **Strings** are immutable\n",
    "\n",
    "This has some implications towards avoiding bugs in the programs you write (like the puzzle you saw earlier) and writing efficient code.\n",
    "\n",
    "For example, let's say we have to concatenate all strings in a list. Here is the straight-forward version:"
   ]
  },
  {
   "cell_type": "code",
   "execution_count": null,
   "metadata": {},
   "outputs": [],
   "source": [
    "base = \"\"\n",
    "for strng in list_of_strings:\n",
    "    base = base + strng"
   ]
  },
  {
   "cell_type": "markdown",
   "metadata": {},
   "source": [
    "However, that solution is very inefficient.\n",
    "\n",
    "Since strings are immutable, concatenating two strings together creates a third string which is the combination of those strings. If you are iterating a lot and building a large string, you will waste a lot of memory creating and throwing away objects. Also, towards the end of the iteration you will be allocating and throwing away very large string objects which is even more costly.\n",
    "\n",
    "Here is the Pythonic solution:"
   ]
  },
  {
   "cell_type": "code",
   "execution_count": null,
   "metadata": {},
   "outputs": [],
   "source": [
    "\"\".join(list_of_strings)"
   ]
  },
  {
   "cell_type": "markdown",
   "metadata": {},
   "source": [
    "## Puzzle 2: Mutable Default Arguments\n",
    "\n",
    "**What will be the output of the following cell?**"
   ]
  },
  {
   "cell_type": "code",
   "execution_count": null,
   "metadata": {},
   "outputs": [],
   "source": [
    "def append_to(element, to=[]):\n",
    "    to.append(element)\n",
    "    return to\n",
    "\n",
    "listA = append_to(12)\n",
    "print(listA)"
   ]
  },
  {
   "cell_type": "markdown",
   "metadata": {},
   "source": [
    "**What will be the output of the following cell?**"
   ]
  },
  {
   "cell_type": "code",
   "execution_count": null,
   "metadata": {},
   "outputs": [],
   "source": [
    "listB = append_to(42)\n",
    "print(listB)"
   ]
  },
  {
   "cell_type": "markdown",
   "metadata": {},
   "source": [
    "**What will be the output of the following cell?**"
   ]
  },
  {
   "cell_type": "code",
   "execution_count": null,
   "metadata": {},
   "outputs": [],
   "source": [
    "listC = append_to(42)\n",
    "print(listC)"
   ]
  },
  {
   "cell_type": "markdown",
   "metadata": {},
   "source": [
    "## Explanation\n",
    "\n",
    "So what happened? We expected a new list to be created each time the function is called if a second argument isn’t provided, so that the output should have been:\n",
    "\n",
    "        [12]\n",
    "        [42]\n",
    "        \n",
    "But the actual output turned out to be:\n",
    "\n",
    "        [12]\n",
    "        [12, 42]\n",
    "\n",
    "A new list is created once when the function is defined, and the same list is used in each successive call. Python’s default arguments are evaluated once when the function is defined, not each time the function is called (like it is in say, Ruby). This means that if you use a mutable default argument and mutate it, you will and have mutated that object for all future calls to the function as well.\n",
    "\n",
    "Here is how you could rewrite the function: create a new object each time the function is called, by using a default arg to signal that no argument was provided (*None* is often a good choice)."
   ]
  },
  {
   "cell_type": "code",
   "execution_count": null,
   "metadata": {},
   "outputs": [],
   "source": [
    "def append_to(element, to=None):\n",
    "    if to is None:\n",
    "        to = []\n",
    "    to.append(element)\n",
    "    return to"
   ]
  },
  {
   "cell_type": "code",
   "execution_count": null,
   "metadata": {},
   "outputs": [],
   "source": [
    "listA = append_to(12)\n",
    "print(listA)"
   ]
  },
  {
   "cell_type": "code",
   "execution_count": null,
   "metadata": {},
   "outputs": [],
   "source": [
    "listB = append_to(42)\n",
    "print(listB)"
   ]
  },
  {
   "cell_type": "markdown",
   "metadata": {},
   "source": [
    "# Appendix"
   ]
  },
  {
   "cell_type": "markdown",
   "metadata": {},
   "source": [
    "* [Official documentation](https://docs.python.org/3.6/reference/datamodel.html)\n",
    "* [From the wikibook](https://en.wikibooks.org/wiki/Python_Programming/Data_Types)"
   ]
  }
 ],
 "metadata": {
  "kernelspec": {
   "display_name": "Python 3",
   "language": "python",
   "name": "python3"
  },
  "language_info": {
   "codemirror_mode": {
    "name": "ipython",
    "version": 3
   },
   "file_extension": ".py",
   "mimetype": "text/x-python",
   "name": "python",
   "nbconvert_exporter": "python",
   "pygments_lexer": "ipython3",
   "version": "3.5.2"
  },
  "widgets": {
   "state": {},
   "version": "1.1.2"
  }
 },
 "nbformat": 4,
 "nbformat_minor": 2
}
