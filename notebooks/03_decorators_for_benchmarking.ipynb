{
 "cells": [
  {
   "cell_type": "markdown",
   "metadata": {},
   "source": [
    "# What are decorators?"
   ]
  },
  {
   "cell_type": "markdown",
   "metadata": {},
   "source": [
    "* Functions are first class objects\n",
    "* Function in, function out"
   ]
  },
  {
   "cell_type": "markdown",
   "metadata": {},
   "source": [
    "# Measuring time"
   ]
  },
  {
   "cell_type": "code",
   "execution_count": 24,
   "metadata": {},
   "outputs": [],
   "source": [
    "def timeit(method):\n",
    "    def timed(*args, **kw):\n",
    "        ts = time.time()\n",
    "        result = method(*args, **kw)\n",
    "        te = time.time()\n",
    "        if 'log_time' in kw:\n",
    "            name = kw.get('log_name', method.__name__.upper())\n",
    "            kw['log_time'][name] = int((te - ts) * 1000)\n",
    "        else:\n",
    "            print(method.__name__, '  ',  (te - ts) * 1000, ' ms')\n",
    "        return result\n",
    "    return timed"
   ]
  },
  {
   "cell_type": "code",
   "execution_count": 25,
   "metadata": {},
   "outputs": [
    {
     "name": "stdout",
     "output_type": "stream",
     "text": [
      "f    72.68190383911133  ms\n",
      "None\n"
     ]
    }
   ],
   "source": [
    "@timeit\n",
    "def f(a):\n",
    "    for _ in range(a):\n",
    "        pass\n",
    "\n",
    "print(f(2000000))"
   ]
  },
  {
   "cell_type": "markdown",
   "metadata": {},
   "source": [
    "* **DO NOT USE** the decorator above for benchmarking/comparing functions.\n",
    "* **USE** the decorator above for estimating wall-time for your deep learning models\n",
    "* [timeit is more accurate, for three reasons](https://stackoverflow.com/questions/17579357/time-time-vs-timeit-timeit)\n",
    "    - it repeats the tests many times to eliminate the influence of other tasks on your machine, such as disk flushing and OS scheduling\n",
    "    - it disables the garbage collector to prevent that process from skewing the results by scheduling a collection run at an inopportune moment\n",
    "    - it picks the most accurate timer for your OS, [time.time](https://docs.python.org/3/library/time.html#time.time) or [time.perf_counter()](https://docs.python.org/3/library/time.html#time.perf_counter) (see [timeit.default_timer](https://docs.python.org/3/library/timeit.html#timeit.default_timer))"
   ]
  },
  {
   "cell_type": "markdown",
   "metadata": {},
   "source": [
    "# Appendix"
   ]
  },
  {
   "cell_type": "markdown",
   "metadata": {},
   "source": [
    "* [Profiling functions](https://mg.pov.lt/profilehooks/)\n",
    "* https://www.zopyx.com/andreas-jung/contents/a-python-decorator-for-measuring-the-execution-time-of-methods\n",
    "* https://medium.com/pythonhive/python-decorator-to-measure-the-execution-time-of-methods-fa04cb6bb36d"
   ]
  }
 ],
 "metadata": {
  "kernelspec": {
   "display_name": "Python 3",
   "language": "python",
   "name": "python3"
  },
  "language_info": {
   "codemirror_mode": {
    "name": "ipython",
    "version": 3
   },
   "file_extension": ".py",
   "mimetype": "text/x-python",
   "name": "python",
   "nbconvert_exporter": "python",
   "pygments_lexer": "ipython3",
   "version": "3.5.2"
  },
  "widgets": {
   "state": {},
   "version": "1.1.2"
  }
 },
 "nbformat": 4,
 "nbformat_minor": 2
}
