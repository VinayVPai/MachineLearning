{
 "cells": [
  {
   "cell_type": "markdown",
   "metadata": {},
   "source": [
    "We will introduce the following terms:\n",
    "\n",
    "* containers\n",
    "* iterables\n",
    "* iterators\n",
    "* generators"
   ]
  },
  {
   "cell_type": "markdown",
   "metadata": {},
   "source": [
    "# Containers\n",
    "\n",
    "Containers are actually any python data structure that fulfills the membership relationship with its objects, typical examples of such containers are lists/tuples/dicts:\n"
   ]
  },
  {
   "cell_type": "code",
   "execution_count": 1,
   "metadata": {},
   "outputs": [
    {
     "name": "stdout",
     "output_type": "stream",
     "text": [
      "True\n",
      "True\n",
      "False\n"
     ]
    }
   ],
   "source": [
    "pokemons = ['Bulbasaur',\n",
    "            'Charmander',\n",
    "            'Pikachu',\n",
    "            'Mankey'] # Catch 'em all.\n",
    "print('Bulbasaur' in pokemons)\n",
    "print('Ponyta' not in pokemons)\n",
    "print('bingorabbit' in pokemons)"
   ]
  },
  {
   "cell_type": "markdown",
   "metadata": {},
   "source": [
    "* Containers are plain basic boxes, you can manage them (add/remove/edit their items - if possible -), that's why they are easy to deal with.\n",
    "* Implementing a container requires implementing the **\\_\\_contains\\_\\_()** magic method.\n",
    "* Containers provide a way to test if they have another object and they might provide a way to iterate over their contents (other contained objects) which would make them also iterables."
   ]
  },
  {
   "cell_type": "markdown",
   "metadata": {},
   "source": [
    "# Iterables\n",
    "\n",
    "* In python, being able to iterate/loop over items in a container makes it iterable. So, if containers provide a way to iterate over their items - or get one of them when possible, else raises an **IndexError** - they become iterables.\n",
    "* But an iterable is not by default a container (see [Bloom Filters](https://en.wikipedia.org/wiki/Bloom_filter).\n",
    "* An iterable is something which we can iterate over to fetch data within, whether these data is file contents, socket stream."
   ]
  },
  {
   "cell_type": "code",
   "execution_count": 2,
   "metadata": {},
   "outputs": [],
   "source": [
    "pokedox = iter(pokemons)"
   ]
  },
  {
   "cell_type": "code",
   "execution_count": 3,
   "metadata": {},
   "outputs": [
    {
     "name": "stdout",
     "output_type": "stream",
     "text": [
      "I'm an awesome pokemon and my name is Bulbasaur.\n",
      "I'm an awesome pokemon and my name is Charmander.\n",
      "I'm an awesome pokemon and my name is Pikachu.\n",
      "I'm an awesome pokemon and my name is Mankey.\n"
     ]
    }
   ],
   "source": [
    "for pokemon in pokedox:\n",
    "    print(\"I'm an awesome pokemon and my name is {0}.\".format(pokemon))"
   ]
  },
  {
   "cell_type": "code",
   "execution_count": 4,
   "metadata": {},
   "outputs": [
    {
     "data": {
      "text/plain": [
       "list"
      ]
     },
     "execution_count": 4,
     "metadata": {},
     "output_type": "execute_result"
    }
   ],
   "source": [
    "type(pokemons)"
   ]
  },
  {
   "cell_type": "code",
   "execution_count": 5,
   "metadata": {},
   "outputs": [
    {
     "data": {
      "text/plain": [
       "list_iterator"
      ]
     },
     "execution_count": 5,
     "metadata": {},
     "output_type": "execute_result"
    }
   ],
   "source": [
    "type(pokedox)"
   ]
  },
  {
   "cell_type": "markdown",
   "metadata": {},
   "source": [
    "* As we can see, the pokemons list is an **iterable** but the pokedox object is an **iterator**.\n",
    "* Implementing an iterator requires implementing the **\\_\\_iter\\_\\_()** magic method, which would return the iterator itself. Or the **\\_\\_getitem\\_\\_()** magic method to support the sequence protocol which calls for items in the container starting from index 0."
   ]
  },
  {
   "cell_type": "markdown",
   "metadata": {},
   "source": [
    "# Iterators\n",
    "\n",
    "As per python docs, iterators are those items that support the [Iterator protocol](https://docs.python.org/3/library/stdtypes.html#iterator-types) - or as mentioned before, the sequence protocol, but we will focus on the first, which can be implemented by implementing the **\\_\\_iter\\_\\_()** and **next()**"
   ]
  },
  {
   "cell_type": "code",
   "execution_count": 6,
   "metadata": {},
   "outputs": [],
   "source": [
    "class FibIterator(object):\n",
    "    \n",
    "    def __init__(self):\n",
    "        self.previous, self.current = 0,1\n",
    "    \n",
    "    def __iter__(self):\n",
    "        return self\n",
    "   \n",
    "    def __next__(self):\n",
    "        value = self.current\n",
    "        self.previous, self.current = self.current, self.current+self.previous\n",
    "        return value"
   ]
  },
  {
   "cell_type": "code",
   "execution_count": 7,
   "metadata": {},
   "outputs": [],
   "source": [
    "fibonacci = FibIterator()"
   ]
  },
  {
   "cell_type": "code",
   "execution_count": 8,
   "metadata": {},
   "outputs": [
    {
     "name": "stdout",
     "output_type": "stream",
     "text": [
      "1\n",
      "1\n",
      "2\n"
     ]
    }
   ],
   "source": [
    "print(next(fibonacci))\n",
    "print(next(fibonacci))\n",
    "print(next(fibonacci))"
   ]
  },
  {
   "cell_type": "code",
   "execution_count": 10,
   "metadata": {},
   "outputs": [
    {
     "name": "stdout",
     "output_type": "stream",
     "text": [
      "3\n",
      "5\n",
      "8\n",
      "13\n",
      "21\n",
      "34\n",
      "55\n",
      "89\n",
      "144\n",
      "233\n"
     ]
    }
   ],
   "source": [
    "for i in range(10):\n",
    "    print(next(fibonacci))"
   ]
  },
  {
   "cell_type": "markdown",
   "metadata": {},
   "source": [
    "* Note that the iterator remembers where it stopped and continue from there, and once you reach the final item, it's done!\n",
    "* https://docs.python.org/3/library/itertools.html"
   ]
  },
  {
   "cell_type": "code",
   "execution_count": 11,
   "metadata": {},
   "outputs": [
    {
     "name": "stdout",
     "output_type": "stream",
     "text": [
      "15\n",
      "16\n",
      "17\n",
      "18\n",
      "19\n"
     ]
    }
   ],
   "source": [
    "from itertools import count\n",
    "counter = count(15)\n",
    "for i in range(5):\n",
    "    print(next(counter))"
   ]
  },
  {
   "cell_type": "code",
   "execution_count": 12,
   "metadata": {},
   "outputs": [
    {
     "name": "stdout",
     "output_type": "stream",
     "text": [
      "Bulbasaur\n",
      "Charmander\n",
      "Pikachu\n",
      "Mankey\n",
      "Bulbasaur\n",
      "Charmander\n",
      "Pikachu\n",
      "Mankey\n"
     ]
    }
   ],
   "source": [
    "from itertools import cycle, islice\n",
    "\n",
    "pokemons_cycle = cycle(pokemons) # This will create an infinite cycling iterator\n",
    "pokemons_slice = islice(pokemons_cycle, 0, len(pokemons)*2) # Finite\n",
    "\n",
    "for pokemon in pokemons_slice:\n",
    "    print(pokemon)"
   ]
  },
  {
   "cell_type": "markdown",
   "metadata": {
    "collapsed": true
   },
   "source": [
    "# Generators\n",
    "A generator is a more elegantly written iterator, so instead of implementing the Fib class up there and going thruogh implementing the **\\_\\_iter\\_\\_** and **\\_\\_next\\_\\_** methods, we can just do it like this:"
   ]
  },
  {
   "cell_type": "code",
   "execution_count": 57,
   "metadata": {},
   "outputs": [
    {
     "name": "stdout",
     "output_type": "stream",
     "text": [
      "1\n",
      "1\n",
      "2\n",
      "3\n",
      "5\n",
      "8\n",
      "13\n",
      "21\n",
      "34\n",
      "55\n"
     ]
    }
   ],
   "source": [
    "def fib():\n",
    "    prev, curr = 0, 1\n",
    "    while True:\n",
    "        yield curr\n",
    "        prev, curr = curr, prev + curr\n",
    "\n",
    "new_fib = fib()\n",
    "for i in islice(new_fib, 0, 10):\n",
    "    print(i)"
   ]
  },
  {
   "cell_type": "markdown",
   "metadata": {},
   "source": [
    "* We introduce a new magic word, it's **yield**. Once it's there, we have a generator.\n",
    "* The function **fib**, once called through the islice function, gets executed line by line, till it reaches the yield statement.\n",
    "* Then it yields a value and stays idle in the memory, waiting us to call another value and another value ...\n",
    "* When **islice** reaches its 10th element and we start to call the 11th, when it raises a StopIteration exception and exits."
   ]
  },
  {
   "cell_type": "markdown",
   "metadata": {},
   "source": [
    "# range() vs xrange()"
   ]
  },
  {
   "cell_type": "code",
   "execution_count": 13,
   "metadata": {},
   "outputs": [
    {
     "name": "stdout",
     "output_type": "stream",
     "text": [
      "range(0, 5)\n"
     ]
    }
   ],
   "source": [
    "print(range(5))"
   ]
  },
  {
   "cell_type": "code",
   "execution_count": 14,
   "metadata": {},
   "outputs": [
    {
     "name": "stdout",
     "output_type": "stream",
     "text": [
      "[0, 1, 2, 3, 4]\n"
     ]
    }
   ],
   "source": [
    "print(list(range(5)))"
   ]
  },
  {
   "cell_type": "code",
   "execution_count": 15,
   "metadata": {},
   "outputs": [
    {
     "data": {
      "text/plain": [
       "range"
      ]
     },
     "execution_count": 15,
     "metadata": {},
     "output_type": "execute_result"
    }
   ],
   "source": [
    "type(range(5))"
   ]
  },
  {
   "cell_type": "code",
   "execution_count": 16,
   "metadata": {},
   "outputs": [
    {
     "data": {
      "text/plain": [
       "list"
      ]
     },
     "execution_count": 16,
     "metadata": {},
     "output_type": "execute_result"
    }
   ],
   "source": [
    "type(list(range(5)))"
   ]
  },
  {
   "cell_type": "markdown",
   "metadata": {},
   "source": [
    "# Appendix: How generators actually work"
   ]
  },
  {
   "cell_type": "code",
   "execution_count": 58,
   "metadata": {},
   "outputs": [],
   "source": [
    "def echo(value=None):\n",
    "     print(\"Execution starts when 'next()' is called for the first time.\")\n",
    "     try:\n",
    "         while True:\n",
    "             try:\n",
    "                 value = (yield value)\n",
    "             except Exception as e:\n",
    "                 value = e\n",
    "     finally:\n",
    "         print(\"Don't forget to clean up when 'close()' is called.\")"
   ]
  },
  {
   "cell_type": "code",
   "execution_count": 59,
   "metadata": {},
   "outputs": [
    {
     "name": "stdout",
     "output_type": "stream",
     "text": [
      "Execution starts when 'next()' is called for the first time.\n",
      "1\n"
     ]
    }
   ],
   "source": [
    "generator = echo(1)\n",
    "print(next(generator))"
   ]
  },
  {
   "cell_type": "code",
   "execution_count": 60,
   "metadata": {},
   "outputs": [
    {
     "name": "stdout",
     "output_type": "stream",
     "text": [
      "None\n"
     ]
    }
   ],
   "source": [
    "print(next(generator))"
   ]
  },
  {
   "cell_type": "code",
   "execution_count": 61,
   "metadata": {},
   "outputs": [
    {
     "name": "stdout",
     "output_type": "stream",
     "text": [
      "2\n"
     ]
    }
   ],
   "source": [
    "print(generator.send(2))"
   ]
  },
  {
   "cell_type": "code",
   "execution_count": 62,
   "metadata": {},
   "outputs": [
    {
     "name": "stdout",
     "output_type": "stream",
     "text": [
      "Don't forget to clean up when 'close()' is called.\n"
     ]
    }
   ],
   "source": [
    "generator.close()"
   ]
  },
  {
   "cell_type": "markdown",
   "metadata": {},
   "source": [
    "### Use of generators\n",
    "\n",
    "Generators boosts performance and memory usage, so the most simple usage the difference between **range** and **xrange**, the first returns a list, but the second returns a generator, so instead of occupying the memory with a list of numbers, it just give you the number you want when you need it. In python 3, range will return a genrator by default."
   ]
  },
  {
   "cell_type": "code",
   "execution_count": 68,
   "metadata": {},
   "outputs": [
    {
     "name": "stdout",
     "output_type": "stream",
     "text": [
      "[0, 1, 4, 9, 16, 25, 36, 49, 64, 81]\n"
     ]
    }
   ],
   "source": [
    "# Normal list\n",
    "list_a = list(x * x for x in range(10))\n",
    "type(list_a)\n",
    "print([x * x for x in range(10)])"
   ]
  },
  {
   "cell_type": "code",
   "execution_count": 64,
   "metadata": {},
   "outputs": [
    {
     "data": {
      "text/plain": [
       "list"
      ]
     },
     "execution_count": 64,
     "metadata": {},
     "output_type": "execute_result"
    }
   ],
   "source": [
    "# List Comperhention\n",
    "list_b = [x * x for x in range(10)]\n",
    "type(list_b)"
   ]
  },
  {
   "cell_type": "code",
   "execution_count": 65,
   "metadata": {},
   "outputs": [
    {
     "data": {
      "text/plain": [
       "generator"
      ]
     },
     "execution_count": 65,
     "metadata": {},
     "output_type": "execute_result"
    }
   ],
   "source": [
    "# Tuple Comperhention\n",
    "tuple_a = (x * x for x in range(10)) # Should that be a tuple, ha? :+1:\n",
    "type(tuple_a)"
   ]
  }
 ],
 "metadata": {
  "celltoolbar": "Raw Cell Format",
  "kernelspec": {
   "display_name": "Python 3",
   "language": "python",
   "name": "python3"
  },
  "language_info": {
   "codemirror_mode": {
    "name": "ipython",
    "version": 3
   },
   "file_extension": ".py",
   "mimetype": "text/x-python",
   "name": "python",
   "nbconvert_exporter": "python",
   "pygments_lexer": "ipython3",
   "version": "3.5.2"
  },
  "widgets": {
   "state": {},
   "version": "1.1.2"
  }
 },
 "nbformat": 4,
 "nbformat_minor": 1
}
