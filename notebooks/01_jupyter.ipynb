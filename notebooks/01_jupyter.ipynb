{
 "cells": [
  {
   "cell_type": "markdown",
   "metadata": {},
   "source": [
    "# Taking Anaconda for  spin\n",
    "\n",
    "* Verifying Anaconda install\n",
    "\n",
    "        conda --version\n",
    "        \n",
    "* Updating Anaconda to current version\n",
    "\n",
    "        conda update conda\n",
    "        \n",
    "* List installed packages\n",
    "\n",
    "        conda list\n",
    "        \n",
    "* Search for a package\n",
    "\n",
    "        conda search beautifulsoup4\n",
    "        \n",
    "* Install packages\n",
    "\n",
    "        conda install beautifulsoup4\n",
    "        pip install beautifulsoup4\n",
    "\n",
    "* Remove packages\n",
    "\n",
    "        conda remove beautifulsoup4"
   ]
  },
  {
   "cell_type": "markdown",
   "metadata": {},
   "source": [
    "# Quick Introduction to Jupyter Notebooks\n",
    "\n",
    "You should understand the following concepts:\n",
    "* Managing Cells\n",
    "    - Cell Types\n",
    "    - Navigation mode vs Editing mode\n",
    "    - Executing and Creating New Cells\n",
    "* Handling Notebooks\n",
    "    - Creating new notebooks (with different kernels)\n",
    "    - Exporting notebooks to various formats\n",
    "* Keyboard Shortcuts\n",
    "    - Ctrl + Enter\n",
    "    - Alt + Enter\n",
    "    - Shift + Enter\n",
    "    - Esc\n",
    "    - m\n",
    "    - Ctrl + Shift + minus\n",
    "    - Shift + M\n",
    "    "
   ]
  },
  {
   "cell_type": "markdown",
   "metadata": {},
   "source": [
    "# Markdown"
   ]
  },
  {
   "cell_type": "markdown",
   "metadata": {},
   "source": [
    "* [What is markdown?](https://help.github.com/articles/markdown-basics/)\n",
    "* [GitHub Flavored Markdown](https://help.github.com/articles/github-flavored-markdown/) (used by Jupyter)\n",
    "* Here are some examples of markdown in action (edit this cell to see the raw text)\n",
    "    * Styling Text,\n",
    "        - *italicised*\n",
    "        - **bold**\n",
    "        - ***italicised and bold***\n",
    "        - **styles _mixed_ together**\n",
    "    * Unordered lists\n",
    "      - Nested Unordered Lists\n",
    "      1. Ordered Lists\n",
    "        1. Nested Lists\n",
    "        2. More Nesting\n",
    "          * More nested lists\n",
    "    * Writing Code Blocks\n",
    "```Python\n",
    "x = 0,\n",
    "x = 2 + 2,\n",
    "hist(rnorm(1000)),\n",
    "```"
   ]
  },
  {
   "cell_type": "markdown",
   "metadata": {},
   "source": [
    "# Jupyter Notebook Magic Commands"
   ]
  },
  {
   "cell_type": "markdown",
   "metadata": {},
   "source": [
    "**This will list all magic commands**:"
   ]
  },
  {
   "cell_type": "code",
   "execution_count": 1,
   "metadata": {},
   "outputs": [
    {
     "data": {
      "application/json": {
       "cell": {
        "!": "OSMagics",
        "HTML": "Other",
        "SVG": "Other",
        "bash": "Other",
        "capture": "ExecutionMagics",
        "debug": "ExecutionMagics",
        "file": "Other",
        "html": "DisplayMagics",
        "javascript": "DisplayMagics",
        "js": "DisplayMagics",
        "latex": "DisplayMagics",
        "markdown": "DisplayMagics",
        "perl": "Other",
        "prun": "ExecutionMagics",
        "pypy": "Other",
        "python": "Other",
        "python2": "Other",
        "python3": "Other",
        "ruby": "Other",
        "script": "ScriptMagics",
        "sh": "Other",
        "svg": "DisplayMagics",
        "sx": "OSMagics",
        "system": "OSMagics",
        "time": "ExecutionMagics",
        "timeit": "ExecutionMagics",
        "writefile": "OSMagics"
       },
       "line": {
        "alias": "OSMagics",
        "alias_magic": "BasicMagics",
        "autocall": "AutoMagics",
        "automagic": "AutoMagics",
        "autosave": "KernelMagics",
        "bookmark": "OSMagics",
        "cat": "Other",
        "cd": "OSMagics",
        "clear": "KernelMagics",
        "colors": "BasicMagics",
        "config": "ConfigMagics",
        "connect_info": "KernelMagics",
        "cp": "Other",
        "debug": "ExecutionMagics",
        "dhist": "OSMagics",
        "dirs": "OSMagics",
        "doctest_mode": "BasicMagics",
        "ed": "Other",
        "edit": "KernelMagics",
        "env": "OSMagics",
        "gui": "BasicMagics",
        "hist": "Other",
        "history": "HistoryMagics",
        "killbgscripts": "ScriptMagics",
        "ldir": "Other",
        "less": "KernelMagics",
        "lf": "Other",
        "lk": "Other",
        "ll": "Other",
        "load": "CodeMagics",
        "load_ext": "ExtensionMagics",
        "loadpy": "CodeMagics",
        "logoff": "LoggingMagics",
        "logon": "LoggingMagics",
        "logstart": "LoggingMagics",
        "logstate": "LoggingMagics",
        "logstop": "LoggingMagics",
        "ls": "Other",
        "lsmagic": "BasicMagics",
        "lx": "Other",
        "macro": "ExecutionMagics",
        "magic": "BasicMagics",
        "man": "KernelMagics",
        "matplotlib": "PylabMagics",
        "mkdir": "Other",
        "more": "KernelMagics",
        "mv": "Other",
        "notebook": "BasicMagics",
        "page": "BasicMagics",
        "pastebin": "CodeMagics",
        "pdb": "ExecutionMagics",
        "pdef": "NamespaceMagics",
        "pdoc": "NamespaceMagics",
        "pfile": "NamespaceMagics",
        "pinfo": "NamespaceMagics",
        "pinfo2": "NamespaceMagics",
        "pip": "BasicMagics",
        "popd": "OSMagics",
        "pprint": "BasicMagics",
        "precision": "BasicMagics",
        "profile": "BasicMagics",
        "prun": "ExecutionMagics",
        "psearch": "NamespaceMagics",
        "psource": "NamespaceMagics",
        "pushd": "OSMagics",
        "pwd": "OSMagics",
        "pycat": "OSMagics",
        "pylab": "PylabMagics",
        "qtconsole": "KernelMagics",
        "quickref": "BasicMagics",
        "recall": "HistoryMagics",
        "rehashx": "OSMagics",
        "reload_ext": "ExtensionMagics",
        "rep": "Other",
        "rerun": "HistoryMagics",
        "reset": "NamespaceMagics",
        "reset_selective": "NamespaceMagics",
        "rm": "Other",
        "rmdir": "Other",
        "run": "ExecutionMagics",
        "save": "CodeMagics",
        "sc": "OSMagics",
        "set_env": "OSMagics",
        "store": "StoreMagics",
        "sx": "OSMagics",
        "system": "OSMagics",
        "tb": "ExecutionMagics",
        "time": "ExecutionMagics",
        "timeit": "ExecutionMagics",
        "unalias": "OSMagics",
        "unload_ext": "ExtensionMagics",
        "who": "NamespaceMagics",
        "who_ls": "NamespaceMagics",
        "whos": "NamespaceMagics",
        "xdel": "NamespaceMagics",
        "xmode": "BasicMagics"
       }
      },
      "text/plain": [
       "Available line magics:\n",
       "%alias  %alias_magic  %autocall  %automagic  %autosave  %bookmark  %cat  %cd  %clear  %colors  %config  %connect_info  %cp  %debug  %dhist  %dirs  %doctest_mode  %ed  %edit  %env  %gui  %hist  %history  %killbgscripts  %ldir  %less  %lf  %lk  %ll  %load  %load_ext  %loadpy  %logoff  %logon  %logstart  %logstate  %logstop  %ls  %lsmagic  %lx  %macro  %magic  %man  %matplotlib  %mkdir  %more  %mv  %notebook  %page  %pastebin  %pdb  %pdef  %pdoc  %pfile  %pinfo  %pinfo2  %popd  %pprint  %precision  %profile  %prun  %psearch  %psource  %pushd  %pwd  %pycat  %pylab  %qtconsole  %quickref  %recall  %rehashx  %reload_ext  %rep  %rerun  %reset  %reset_selective  %rm  %rmdir  %run  %save  %sc  %set_env  %store  %sx  %system  %tb  %time  %timeit  %unalias  %unload_ext  %who  %who_ls  %whos  %xdel  %xmode\n",
       "\n",
       "Available cell magics:\n",
       "%%!  %%HTML  %%SVG  %%bash  %%capture  %%debug  %%file  %%html  %%javascript  %%js  %%latex  %%markdown  %%perl  %%prun  %%pypy  %%python  %%python2  %%python3  %%ruby  %%script  %%sh  %%svg  %%sx  %%system  %%time  %%timeit  %%writefile\n",
       "\n",
       "Automagic is ON, % prefix IS NOT needed for line magics."
      ]
     },
     "execution_count": 1,
     "metadata": {},
     "output_type": "execute_result"
    }
   ],
   "source": [
    "%lsmagic"
   ]
  },
  {
   "cell_type": "markdown",
   "metadata": {},
   "source": [
    "**%load: Insert the code from an external script**\n",
    "\n",
    "This will replace the contents of the cell with an external script. You can either use a file on your computer as a source, or alternatively a URL."
   ]
  },
  {
   "cell_type": "code",
   "execution_count": null,
   "metadata": {},
   "outputs": [],
   "source": [
    "%load ./hello_world.py"
   ]
  },
  {
   "cell_type": "code",
   "execution_count": null,
   "metadata": {},
   "outputs": [],
   "source": [
    "# After Running\n",
    "# %load ./hello_world.py\n",
    "if __name__ == \"__main__\":\n",
    "    print(\"Hello World!\")"
   ]
  },
  {
   "cell_type": "markdown",
   "metadata": {},
   "source": [
    "**%env: Set Environment Variables**"
   ]
  },
  {
   "cell_type": "code",
   "execution_count": null,
   "metadata": {},
   "outputs": [],
   "source": [
    "%env OMP_NUM_THREADS=4"
   ]
  },
  {
   "cell_type": "markdown",
   "metadata": {},
   "source": [
    "**%run: Execute python code**"
   ]
  },
  {
   "cell_type": "code",
   "execution_count": null,
   "metadata": {},
   "outputs": [],
   "source": [
    "%run ./two-histograms.ipynb"
   ]
  },
  {
   "cell_type": "markdown",
   "metadata": {},
   "source": [
    "**Timing**\n",
    "\n",
    "There are two Jupyter Magic commands that are useful for timing - **%%time** and **%timeit**. These are especially handy when you have some slow code and you're trying to indentify where the issue is.\n",
    "\n",
    "**%%time** will give you information about a single run of the code in your cell."
   ]
  },
  {
   "cell_type": "code",
   "execution_count": 2,
   "metadata": {},
   "outputs": [
    {
     "name": "stdout",
     "output_type": "stream",
     "text": [
      "CPU times: user 19.9 ms, sys: 12.9 ms, total: 32.7 ms\n",
      "Wall time: 11.6 s\n"
     ]
    }
   ],
   "source": [
    "%%time\n",
    "import time\n",
    "for _ in range(100):\n",
    "    time.sleep(0.01)# sleep for 0.01 seconds"
   ]
  },
  {
   "cell_type": "markdown",
   "metadata": {},
   "source": [
    "**%%timeit** uses the Python [timeit](https://docs.python.org/3.5/library/timeit.html) module which runs a statement 100,000 times (by default) and then provides the mean of the fastest three times."
   ]
  },
  {
   "cell_type": "code",
   "execution_count": 3,
   "metadata": {},
   "outputs": [
    {
     "name": "stdout",
     "output_type": "stream",
     "text": [
      "8.39 µs ± 308 ns per loop (mean ± std. dev. of 7 runs, 100000 loops each)\n"
     ]
    }
   ],
   "source": [
    "import numpy\n",
    "%timeit numpy.random.normal(size=100)"
   ]
  },
  {
   "cell_type": "markdown",
   "metadata": {},
   "source": []
  },
  {
   "cell_type": "code",
   "execution_count": 9,
   "metadata": {},
   "outputs": [
    {
     "name": "stdout",
     "output_type": "stream",
     "text": [
      "total 5352\n",
      "drwxr-xr-x  23 soumendra  staff      782 Feb 13 20:09 .\n",
      "drwxr-xr-x  12 soumendra  staff      408 Feb 13 16:33 ..\n",
      "-rw-r--r--@  1 soumendra  staff    10244 Feb 13 18:03 .DS_Store\n",
      "drwxr-xr-x  14 soumendra  staff      476 Feb 13 18:50 .ipynb_checkpoints\n",
      "-rw-r--r--   1 soumendra  staff     7553 Feb 13 19:45 00_python_data_structures.ipynb\n",
      "-rw-r--r--   1 soumendra  staff    16434 Feb 13 20:09 01_jupyter.ipynb\n",
      "-rw-r--r--   1 soumendra  staff     1075 Feb 13 16:53 02_iterators_generators.ipynb\n",
      "-rw-r--r--   1 soumendra  staff     1219 Feb 13 16:54 03_decorators_for_benchmarking.ipynb\n",
      "-rw-r--r--   1 soumendra  staff     1003 Feb 13 16:54 04_name_main.ipynb\n",
      "-rw-r--r--   1 soumendra  staff     1075 Feb 13 16:55 05_file_io.ipynb\n",
      "-rw-r--r--   1 soumendra  staff     1147 Feb 13 16:56 06_matplotlib.ipynb\n",
      "-rw-r--r--   1 soumendra  staff      931 Feb 13 16:57 07_numpy_scipy.ipynb\n",
      "-rw-r--r--   1 soumendra  staff      931 Feb 13 16:57 08_sklearn.ipynb\n",
      "-rw-r--r--   1 soumendra  staff     1003 Feb 13 16:58 09_metrics_for_image_classification.ipynb\n",
      "-rw-r--r--   1 soumendra  staff     1075 Feb 13 16:59 10_argparse.ipynb\n",
      "-rwxr-xr-x@  1 soumendra  staff  2593304 Feb 13 14:49 11_face_detection.ipynb\n",
      "-rwxr-xr-x@  1 soumendra  staff     3253 Feb 13 14:54 12_face_tracking.ipynb\n",
      "-rwxr-xr-x@  1 soumendra  staff    24653 Feb 13 14:55 13_image_classification.ipynb\n",
      "-rwxr-xr-x@  1 soumendra  staff     7421 Feb 13 15:49 14_kernels.ipynb\n",
      "-rw-r--r--   1 soumendra  staff     8977 Feb 13 15:57 15_cnns_in_practice.ipynb\n",
      "drwxr-xr-x   5 soumendra  staff      170 Feb 13 16:21 assets\n",
      "drwxr-xr-x@  7 soumendra  staff      238 Jul 18  2017 cvpy_outdated\n",
      "-rw-r--r--   1 soumendra  staff     8713 Feb 13 19:45 optional_python_refresher.ipynb\n"
     ]
    }
   ],
   "source": [
    "%%bash\n",
    "ls -al"
   ]
  },
  {
   "cell_type": "code",
   "execution_count": 10,
   "metadata": {},
   "outputs": [
    {
     "name": "stdout",
     "output_type": "stream",
     "text": [
      "total 5352\r\n",
      "drwxr-xr-x  23 soumendra  staff      782 Feb 13 20:09 \u001b[1m\u001b[36m.\u001b[m\u001b[m\r\n",
      "drwxr-xr-x  12 soumendra  staff      408 Feb 13 16:33 \u001b[1m\u001b[36m..\u001b[m\u001b[m\r\n",
      "-rw-r--r--@  1 soumendra  staff    10244 Feb 13 18:03 .DS_Store\r\n",
      "drwxr-xr-x  14 soumendra  staff      476 Feb 13 18:50 \u001b[1m\u001b[36m.ipynb_checkpoints\u001b[m\u001b[m\r\n",
      "-rw-r--r--   1 soumendra  staff     7553 Feb 13 19:45 00_python_data_structures.ipynb\r\n",
      "-rw-r--r--   1 soumendra  staff    16434 Feb 13 20:09 01_jupyter.ipynb\r\n",
      "-rw-r--r--   1 soumendra  staff     1075 Feb 13 16:53 02_iterators_generators.ipynb\r\n",
      "-rw-r--r--   1 soumendra  staff     1219 Feb 13 16:54 03_decorators_for_benchmarking.ipynb\r\n",
      "-rw-r--r--   1 soumendra  staff     1003 Feb 13 16:54 04_name_main.ipynb\r\n",
      "-rw-r--r--   1 soumendra  staff     1075 Feb 13 16:55 05_file_io.ipynb\r\n",
      "-rw-r--r--   1 soumendra  staff     1147 Feb 13 16:56 06_matplotlib.ipynb\r\n",
      "-rw-r--r--   1 soumendra  staff      931 Feb 13 16:57 07_numpy_scipy.ipynb\r\n",
      "-rw-r--r--   1 soumendra  staff      931 Feb 13 16:57 08_sklearn.ipynb\r\n",
      "-rw-r--r--   1 soumendra  staff     1003 Feb 13 16:58 09_metrics_for_image_classification.ipynb\r\n",
      "-rw-r--r--   1 soumendra  staff     1075 Feb 13 16:59 10_argparse.ipynb\r\n",
      "-rwxr-xr-x@  1 soumendra  staff  2593304 Feb 13 14:49 \u001b[31m11_face_detection.ipynb\u001b[m\u001b[m\r\n",
      "-rwxr-xr-x@  1 soumendra  staff     3253 Feb 13 14:54 \u001b[31m12_face_tracking.ipynb\u001b[m\u001b[m\r\n",
      "-rwxr-xr-x@  1 soumendra  staff    24653 Feb 13 14:55 \u001b[31m13_image_classification.ipynb\u001b[m\u001b[m\r\n",
      "-rwxr-xr-x@  1 soumendra  staff     7421 Feb 13 15:49 \u001b[31m14_kernels.ipynb\u001b[m\u001b[m\r\n",
      "-rw-r--r--   1 soumendra  staff     8977 Feb 13 15:57 15_cnns_in_practice.ipynb\r\n",
      "drwxr-xr-x   5 soumendra  staff      170 Feb 13 16:21 \u001b[1m\u001b[36massets\u001b[m\u001b[m\r\n",
      "drwxr-xr-x@  7 soumendra  staff      238 Jul 18  2017 \u001b[1m\u001b[36mcvpy_outdated\u001b[m\u001b[m\r\n",
      "-rw-r--r--   1 soumendra  staff     8713 Feb 13 19:45 optional_python_refresher.ipynb\r\n"
     ]
    }
   ],
   "source": [
    "!ls -al"
   ]
  },
  {
   "cell_type": "markdown",
   "metadata": {},
   "source": [
    "# Appendix\n",
    "\n",
    "* [More on Jupyter Magic Commands](https://www.dataquest.io/blog/jupyter-notebook-tips-tricks-shortcuts/)"
   ]
  }
 ],
 "metadata": {
  "kernelspec": {
   "display_name": "Python 3",
   "language": "python",
   "name": "python3"
  },
  "language_info": {
   "codemirror_mode": {
    "name": "ipython",
    "version": 3
   },
   "file_extension": ".py",
   "mimetype": "text/x-python",
   "name": "python",
   "nbconvert_exporter": "python",
   "pygments_lexer": "ipython3",
   "version": "3.5.2"
  },
  "widgets": {
   "state": {},
   "version": "1.1.2"
  }
 },
 "nbformat": 4,
 "nbformat_minor": 2
}
